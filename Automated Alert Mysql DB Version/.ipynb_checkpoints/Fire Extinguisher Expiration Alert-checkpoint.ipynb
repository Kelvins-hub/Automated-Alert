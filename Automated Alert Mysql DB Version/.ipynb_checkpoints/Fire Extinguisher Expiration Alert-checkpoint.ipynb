{
 "cells": [
  {
   "cell_type": "code",
   "execution_count": 42,
   "id": "a4735355-405b-493d-af65-8dd02bd2c34c",
   "metadata": {},
   "outputs": [],
   "source": [
    "import mysql.connector\n"
   ]
  },
  {
   "cell_type": "code",
   "execution_count": 43,
   "id": "2f0b160d-58ba-4669-9c9f-a2deb8fc2aa6",
   "metadata": {},
   "outputs": [],
   "source": [
    "#import the connection pooling module from the mysql.connector package \n",
    "from mysql.connector import pooling\n"
   ]
  },
  {
   "cell_type": "code",
   "execution_count": 44,
   "id": "cf0e3cd5-5627-412f-94d2-cc42a62db341",
   "metadata": {},
   "outputs": [],
   "source": [
    "#creating the configuration to be passed for connection to db\n",
    "dbconfig = {\n",
    "    \"user\": \"root\",\n",
    "    \"password\": \"Qwerty12345\",\n",
    "   \"database\" : \"Fire_Extinguishers\"\n",
    "}\n"
   ]
  },
  {
   "cell_type": "code",
   "execution_count": 45,
   "id": "b1c38428-1e9f-4fdf-b49b-2ab889a1174f",
   "metadata": {},
   "outputs": [],
   "source": [
    "#pool creation \n",
    "pool = pooling.MySQLConnectionPool(\n",
    "    pool_name=\"gbuproject\",\n",
    "    pool_size=5,  \n",
    "    **dbconfig)"
   ]
  },
  {
   "cell_type": "code",
   "execution_count": 46,
   "id": "3c3bfa9c-4bc4-4ef2-865d-5cd996b9d2d7",
   "metadata": {},
   "outputs": [],
   "source": [
    "#obtaining connection\n",
    "connection = pool.get_connection()\n",
    "     "
   ]
  },
  {
   "cell_type": "code",
   "execution_count": 47,
   "id": "65156ae4-4df6-4839-a633-b04b700c3ab4",
   "metadata": {},
   "outputs": [
    {
     "name": "stdout",
     "output_type": "stream",
     "text": [
      "welcome you are connected successfully\n"
     ]
    }
   ],
   "source": [
    "#confirming if connection was created\n",
    "if connection.is_connected():\n",
    "    print (\"welcome you are connected successfully\")"
   ]
  },
  {
   "cell_type": "code",
   "execution_count": 11,
   "id": "a49e1260-7d1c-443c-a3ff-b1d1b39e2528",
   "metadata": {},
   "outputs": [],
   "source": [
    "#Let's create a cursor who would serve as our messenger\n",
    "richard_cursor = connection.cursor()"
   ]
  },
  {
   "cell_type": "code",
   "execution_count": 8,
   "id": "7ff34ab8-6140-44d3-a5c5-d99ff70b3ca9",
   "metadata": {},
   "outputs": [],
   "source": [
    "#now lets create a table in db that would hold the info required for this project"
   ]
  },
  {
   "cell_type": "code",
   "execution_count": 35,
   "id": "82038115-8601-4ce6-8ae0-ee66ac700262",
   "metadata": {},
   "outputs": [],
   "source": [
    "Sql_4_table_creation = \"\"\"create table Fire_Extinguisher_Data (\n",
    "Fire_eID VARCHAR(50) PRIMARY KEY,\n",
    "Floor_location VARCHAR(30),\n",
    "Last_CheckDate DATE,\n",
    "ExpiryDATE DATE)\"\"\""
   ]
  },
  {
   "cell_type": "code",
   "execution_count": null,
   "id": "53a33db3-56aa-4dea-944f-2133b0f21aa0",
   "metadata": {},
   "outputs": [],
   "source": [
    "#utilize the cursor to create the table with the above sql statement\n",
    "richard_cursor.execute (Sql_4_table_creation)"
   ]
  },
  {
   "cell_type": "code",
   "execution_count": 27,
   "id": "b01133a2-f0cf-4e81-b8a7-fc2aee885b1d",
   "metadata": {},
   "outputs": [],
   "source": [
    "#richard_cursor.execute(\"drop table if exists Fire_Extinguisher_Data \")\n"
   ]
  },
  {
   "cell_type": "code",
   "execution_count": 32,
   "id": "80f77a2d-9a0d-4ffb-a3b6-27c8db8f6210",
   "metadata": {},
   "outputs": [],
   "source": [
    "#lets insert data into the table \n",
    "insert_query = \"\"\"INSERT INTO Fire_Extinguisher_Data \n",
    "(Fire_eID, Floor_location, Last_CheckDate, ExpiryDATE) VALUES\n",
    "('FE001', 'Ground Floor', '2025-04-15', '2025-05-20'),\n",
    "('FE002', '1st Floor',     '2025-04-18', '2025-05-24'),\n",
    "('FE003', '2nd Floor',     '2025-04-22', '2025-05-30'),\n",
    "('FE004', '3rd Floor',     '2025-04-10', '2025-05-16'),\n",
    "('FE005', '4th Floor',     '2025-04-20', '2025-06-05'),\n",
    "('FE006', '5th Floor',     '2025-04-25', '2025-06-06'),\n",
    "('FE007', '6th Floor',     '2025-04-28', '2025-06-08'),\n",
    "('FE008', '7th Floor',     '2025-04-29', '2025-06-09'),\n",
    "('FE009', '8th Floor',     '2025-05-01', '2025-06-10'),\n",
    "('FE010', 'Ground Floor',  '2025-04-12', '2025-05-18')\n",
    "\"\"\"\n"
   ]
  },
  {
   "cell_type": "code",
   "execution_count": 33,
   "id": "86f58dbc-3ce0-4490-9604-9b4c6ddd3277",
   "metadata": {},
   "outputs": [],
   "source": [
    "richard_cursor.execute(insert_query)"
   ]
  },
  {
   "cell_type": "code",
   "execution_count": 34,
   "id": "72ad00e0-7458-4007-b99c-5fd86f9bc104",
   "metadata": {},
   "outputs": [],
   "source": [
    "#lets print the inserted info and confirm if the data is there\n",
    "richard_cursor.execute(\"select * from Fire_Extinguisher_Data \")\n",
    "\n",
    "#to store the data to be fetched\n",
    "table_data = richard_cursor.fetchall()\n",
    "\n",
    "#to scoope-out the column names of the data you want to fetch-out\n",
    "cols = richard_cursor.column_names\n",
    "\n"
   ]
  },
  {
   "cell_type": "code",
   "execution_count": null,
   "id": "dec5bc8f-7a75-4446-94a1-16fe2055a472",
   "metadata": {},
   "outputs": [],
   "source": [
    "print (cols)  #to ensure that the table columns are first printed ontop\n",
    "\n",
    "for row in table_data:\n",
    "    print (row)"
   ]
  },
  {
   "cell_type": "code",
   "execution_count": 38,
   "id": "c9cf7876-5e88-4a2b-9412-d33af7776e7e",
   "metadata": {},
   "outputs": [],
   "source": [
    "#its clear the data has been inserted\n",
    "connection.commit()\n",
    "#this is to make the data permanent on the db"
   ]
  },
  {
   "cell_type": "code",
   "execution_count": 48,
   "id": "eec69cd8-1bde-48c6-a1f2-ff9d280c0625",
   "metadata": {},
   "outputs": [],
   "source": [
    " connection.close() #Releases the connection back to the pool"
   ]
  },
  {
   "cell_type": "code",
   "execution_count": 31,
   "id": "6470eee5-634d-4705-ac6c-223fe72c4cd8",
   "metadata": {},
   "outputs": [],
   "source": [
    "#phase 1 completed \n",
    "\n",
    "#phase 2 is to write a progarm that would send an email notification 3 days ahead of expiration date"
   ]
  },
  {
   "cell_type": "code",
   "execution_count": 99,
   "id": "3b715ca6-a03d-4db8-a3fa-a95adfba5d8a",
   "metadata": {},
   "outputs": [],
   "source": [
    "import mysql.connector #normal normal to connect mysql db\n",
    "\n",
    "import smtplib\n",
    "#imports Python’s built-in smtplib module, which stands for Simple Mail Transfer Protocol library.\n",
    "#It allows your Python program to send emails via an SMTP server (like Gmail, Outlook, Yahoo, etc.)\n",
    "\n",
    "from email.mime.text import MIMEText\n",
    "#imports the MIMEText class, which is used to create email messages with plain text or HTML content.\n",
    "#MIMEText ensures the message is packaged correctly according to email standards\n",
    "\n",
    "\n"
   ]
  },
  {
   "cell_type": "code",
   "execution_count": 100,
   "id": "5ef23176-20ab-40d3-b84e-e02e99f75ab0",
   "metadata": {},
   "outputs": [
    {
     "name": "stdout",
     "output_type": "stream",
     "text": [
      "2025-05-07\n"
     ]
    }
   ],
   "source": [
    "from datetime import date\n",
    "#imports two useful classes from Python’s built-in datetime module\n",
    "#Represents a calendar date (year, month, day).\n",
    "#Used to get today's date or create specific date values. e..g\n",
    "\n",
    "today = date.today()\n",
    "print (today)\n"
   ]
  },
  {
   "cell_type": "code",
   "execution_count": 101,
   "id": "edf51541-fd88-49bb-aeab-13c8f2e471a8",
   "metadata": {},
   "outputs": [],
   "source": [
    "from datetime import timedelta\n",
    "#Represents a duration or difference between dates.\n",
    "#Used to add or subtract days from a date.\n",
    "#Example:\n",
    "reminder_date = today + timedelta(days=3)  # Gets the date 3 days from today\n"
   ]
  },
  {
   "cell_type": "code",
   "execution_count": 102,
   "id": "2f78b803-3b8b-44a3-a55b-12988775a46b",
   "metadata": {},
   "outputs": [],
   "source": [
    "target_date = date.today() + timedelta(days=3)\n",
    "#This ensures you're selecting fire extinguishers that will expire in exactly 3 days."
   ]
  },
  {
   "cell_type": "code",
   "execution_count": 103,
   "id": "4fee4d55-180a-4b18-946c-d488ce993095",
   "metadata": {},
   "outputs": [],
   "source": [
    "#this cell is written to encapsulate sensitive info in this case email details\n",
    "\n",
    "from dotenv import load_dotenv\n",
    "import os\n",
    "\n",
    "load_dotenv()  # Load variables from .env file\n",
    "\n",
    "sender = os.getenv(\"EMAIL_ADDRESS\")\n",
    "password = os.getenv(\"EMAIL_PASSWORD\")\n"
   ]
  },
  {
   "cell_type": "code",
   "execution_count": 104,
   "id": "92e2e473-6e25-41e7-b931-79a30e0bfcb2",
   "metadata": {},
   "outputs": [],
   "source": [
    "#🔌 Part 3: Connect to MySQL Database\n",
    "db_connection = mysql.connector.connect(\n",
    "    user='root',\n",
    "    password='Qwerty12345',\n",
    "    database='Fire_Extinguishers'\n",
    ")"
   ]
  },
  {
   "cell_type": "code",
   "execution_count": 105,
   "id": "4f021f8a-af01-4295-92c6-c331453d7212",
   "metadata": {},
   "outputs": [],
   "source": [
    "#lets create a cursor to serve as the messenger\n",
    "kelvin_cursor = db_connection.cursor()"
   ]
  },
  {
   "cell_type": "code",
   "execution_count": 107,
   "id": "22bff223-2b07-4758-8245-1ca217632714",
   "metadata": {},
   "outputs": [],
   "source": [
    "#🔍 Part 4: Query for Expiring Fire Extinguishers\n",
    "\n",
    "query = \"\"\"\n",
    "SELECT Fire_eID, Floor_location, ExpiryDATE \n",
    "FROM Fire_Extinguisher_Data \n",
    "WHERE ExpiryDATE = %s\n",
    "\"\"\"\n",
    "#the %s is serving as a placeholder. The %s acts like a \"slot\" for the real value.\n",
    "#The %s acts like a \"slot\" for the real value.\n",
    "#to safely insert variables into your SQL command.This protects you from SQL injection.\n"
   ]
  },
  {
   "cell_type": "code",
   "execution_count": 108,
   "id": "5a2b4c93-1e1a-4a78-898a-4833d62502c6",
   "metadata": {},
   "outputs": [],
   "source": [
    "kelvin_cursor.execute(query, (target_date,))\n",
    "#target_date variable has been earlier created earlier\n",
    "\n",
    "records = kelvin_cursor.fetchall()  "
   ]
  },
  {
   "cell_type": "code",
   "execution_count": 109,
   "id": "0ded0717-4dfb-4481-802b-ad25ccf6c59d",
   "metadata": {},
   "outputs": [],
   "source": [
    "#step 5: Compose the Reminder Email (If Applicable)"
   ]
  },
  {
   "cell_type": "code",
   "execution_count": 110,
   "id": "14d9b94e-b1a1-49fd-bd26-4ce429b763ee",
   "metadata": {},
   "outputs": [],
   "source": [
    "message_body = \"\"  # Default empty string, in case records is empty"
   ]
  },
  {
   "cell_type": "code",
   "execution_count": 111,
   "id": "ac002880-f563-4eed-8868-194e104a535c",
   "metadata": {},
   "outputs": [
    {
     "name": "stdout",
     "output_type": "stream",
     "text": [
      "❌ Failed to send email: (334, b'UGFzc3dvcmQ6')\n"
     ]
    }
   ],
   "source": [
    "# We have queried the database and stored results of fire extinguishers expiring in 3 days \n",
    "# in a variable called records\n",
    "\n",
    "if records:     \n",
    "    # If records is not empty, the code inside will run.\n",
    "    # If records is empty, it skips this block — meaning no reminders are sent.\n",
    "    \n",
    "    # Construct the message body\n",
    "    message_lines = [\n",
    "        \"Dear Qhse Team \\n\",\n",
    "        \n",
    "        \"⚠️ Reminder: The following fire extinguishers are expiring in 3 days:\\n\" \n",
    "        #the /n means anything coming after should be on a new line\n",
    "        ]\n",
    "    \n",
    "\n",
    "    # Automatically adds the heading to the email body of all reminder emails\n",
    "    \n",
    "    # Append each record's info\n",
    "    for fire_id, location, expiry in records:\n",
    "        message_lines.append(f\"- ID: {fire_id}, Location: {location}, Expiry Date: {expiry}\")\n",
    "        # Builds up the message line-by-line\n",
    "        #but stores each product of the iteration as a seperate list using \" \" list of strings \n",
    "\n",
    "    # Join all message lines into a single string, separated by line breaks\n",
    "    message_body = \"\\n\".join(message_lines) \n",
    "    #the message_body is part of the if block, but not part of the for loop\n",
    "\n",
    "    #Now message_body is ready to be used in the email\n",
    "\n",
    "    # Step-6: Set Up Email Parameters\n",
    "    receiver = \"akiojanokelvin@gmail.com\"\n",
    "    subject = \"🔥 Fire Extinguisher Expiry Reminder\"\n",
    "\n",
    "    msg = MIMEText(message_body)\n",
    "    msg['Subject'] = subject\n",
    "    msg['From'] = sender  # Already set from os.getenv earlier\n",
    "    msg['To'] = receiver\n",
    "\n",
    "    #Step 6: Send the Email Using SMTP (e.g., Gmail)\n",
    "    #Now use the password variable instead of hardcoding\n",
    "    try:\n",
    "         with smtplib.SMTP_SSL('smtp.gmail.com', 465) as server:\n",
    "            server.login(sender, password)  # Securely loaded from .env\n",
    "            server.sendmail(sender, receiver, msg.as_string())\n",
    "\n",
    "         print(\"✅ Reminder email sent successfully.\")\n",
    "\n",
    "    except Exception as e:\n",
    "            print(\"❌ Failed to send email:\", e)\n",
    "        #This except code will only run when there is a record but somehow the email could not be sent\n",
    "\n",
    "else:\n",
    "    print(\"No fire extinguishers expiring in 3 days.\")\n",
    "#This else code will only run when there is no record of email to be sent"
   ]
  },
  {
   "cell_type": "code",
   "execution_count": null,
   "id": "c68a2ddd-a494-4410-8951-80627c9b77f4",
   "metadata": {},
   "outputs": [],
   "source": []
  }
 ],
 "metadata": {
  "kernelspec": {
   "display_name": "Python 3 (ipykernel)",
   "language": "python",
   "name": "python3"
  },
  "language_info": {
   "codemirror_mode": {
    "name": "ipython",
    "version": 3
   },
   "file_extension": ".py",
   "mimetype": "text/x-python",
   "name": "python",
   "nbconvert_exporter": "python",
   "pygments_lexer": "ipython3",
   "version": "3.12.8"
  }
 },
 "nbformat": 4,
 "nbformat_minor": 5
}
